{
 "cells": [
  {
   "cell_type": "code",
   "execution_count": 30,
   "metadata": {},
   "outputs": [],
   "source": [
    "import pandas as pd\n",
    "import numpy as np\n",
    "import matplotlib.pyplot as plt\n",
    "import seaborn as sns\n",
    "%matplotlib inline"
   ]
  },
  {
   "cell_type": "code",
   "execution_count": 42,
   "metadata": {},
   "outputs": [
    {
     "name": "stdout",
     "output_type": "stream",
     "text": [
      "<class 'pandas.core.frame.DataFrame'>\n",
      "RangeIndex: 25000 entries, 0 to 24999\n",
      "Data columns (total 3 columns):\n",
      "id           25000 non-null object\n",
      "sentiment    25000 non-null int64\n",
      "review       25000 non-null object\n",
      "dtypes: int64(1), object(2)\n",
      "memory usage: 586.0+ KB\n"
     ]
    }
   ],
   "source": [
    "# read data\n",
    "df1 = pd.read_csv(\"labeledTrainData.tsv\", delimiter=\"\\t\")\n",
    "df1.info()"
   ]
  },
  {
   "cell_type": "code",
   "execution_count": 32,
   "metadata": {},
   "outputs": [
    {
     "name": "stdout",
     "output_type": "stream",
     "text": [
      "['about', 'again', 'all', 'also', 'and', 'are', 'at', 'bad', 'biography', 'certain', 'cinema', 'cool', 'documentary', 'down', 'drugs', 'eighties', 'feature', 'feeling', 'film', 'get', 'going', 'guilty', 'guy', 'has', 'he', 'here', 'his', 'in', 'innocent', 'insight', 'into', 'is', 'it', 'just', 'kay', 'listening', 'make', 'maybe', 'message', 'messages', 'mind', 'mj', 'moment', 'moonwalker', 'music', 'my', 'obvious', 'odd', 'of', 'or', 'originally', 'part', 'press', 'really', 'released', 'remember', 'see', 'some', 'started', 'stuff', 'subtle', 'the', 'there', 'this', 'thought', 'to', 'towards', 'up', 've', 'want', 'was', 'watched', 'watching', 'when', 'whether', 'which', 'who', 'with', 'wiz']\n",
      "[[1 1 1 1 3 1 2 1 1 1 1 1 1 1 1 1 1 1 1 1 2 1 1 1 1 1 1 1 1 1 1 2 2 2 1 1\n",
      "  1 2 1 1 1 2 1 2 1 1 1 1 2 1 1 2 1 1 1 1 1 1 1 1 1 7 1 2 1 4 1 1 1 1 2 2\n",
      "  1 1 1 1 1 2 1]]\n"
     ]
    }
   ],
   "source": [
    "from sklearn.feature_extraction.text import CountVectorizer\n",
    "vectorizer = CountVectorizer()\n",
    "bag = vectorizer.fit_transform(twits)\n",
    "print(vectorizer.get_feature_names())\n",
    "print(bag.toarray())"
   ]
  },
  {
   "cell_type": "code",
   "execution_count": 33,
   "metadata": {},
   "outputs": [
    {
     "name": "stdout",
     "output_type": "stream",
     "text": [
      "['about', 'again', 'all', 'also', 'and', 'are', 'at', 'bad', 'biography', 'certain', 'cinema', 'cool', 'documentary', 'down', 'drugs', 'eighties', 'feature', 'feeling', 'film', 'get', 'going', 'guilty', 'guy', 'has', 'he', 'here', 'his', 'in', 'innocent', 'insight', 'into', 'is', 'it', 'just', 'kay', 'listening', 'make', 'maybe', 'message', 'messages', 'mind', 'mj', 'moment', 'moonwalker', 'music', 'my', 'obvious', 'odd', 'of', 'or', 'originally', 'part', 'press', 'really', 'released', 'remember', 'see', 'some', 'started', 'stuff', 'subtle', 'the', 'there', 'this', 'thought', 'to', 'towards', 'up', 've', 'want', 'was', 'watched', 'watching', 'when', 'whether', 'which', 'who', 'with', 'wiz']\n"
     ]
    }
   ],
   "source": [
    "# a list of feature names\n",
    "print(vectorizer.get_feature_names())"
   ]
  },
  {
   "cell_type": "code",
   "execution_count": 34,
   "metadata": {},
   "outputs": [
    {
     "data": {
      "text/plain": [
       "array([[1, 1, 1, 1, 3, 1, 2, 1, 1, 1, 1, 1, 1, 1, 1, 1, 1, 1, 1, 1, 2, 1,\n",
       "        1, 1, 1, 1, 1, 1, 1, 1, 1, 2, 2, 2, 1, 1, 1, 2, 1, 1, 1, 2, 1, 2,\n",
       "        1, 1, 1, 1, 2, 1, 1, 2, 1, 1, 1, 1, 1, 1, 1, 1, 1, 7, 1, 2, 1, 4,\n",
       "        1, 1, 1, 1, 2, 2, 1, 1, 1, 1, 1, 2, 1]], dtype=int64)"
      ]
     },
     "execution_count": 34,
     "metadata": {},
     "output_type": "execute_result"
    }
   ],
   "source": [
    "# Call toarray() on your 'bag' to see the feature vectors\n",
    "bag.toarray()"
   ]
  },
  {
   "cell_type": "code",
   "execution_count": 36,
   "metadata": {},
   "outputs": [
    {
     "name": "stdout",
     "output_type": "stream",
     "text": [
      "[[0.07216878 0.07216878 0.07216878 0.07216878 0.21650635 0.07216878\n",
      "  0.14433757 0.07216878 0.07216878 0.07216878 0.07216878 0.07216878\n",
      "  0.07216878 0.07216878 0.07216878 0.07216878 0.07216878 0.07216878\n",
      "  0.07216878 0.07216878 0.14433757 0.07216878 0.07216878 0.07216878\n",
      "  0.07216878 0.07216878 0.07216878 0.07216878 0.07216878 0.07216878\n",
      "  0.07216878 0.14433757 0.14433757 0.14433757 0.07216878 0.07216878\n",
      "  0.07216878 0.14433757 0.07216878 0.07216878 0.07216878 0.14433757\n",
      "  0.07216878 0.14433757 0.07216878 0.07216878 0.07216878 0.07216878\n",
      "  0.14433757 0.07216878 0.07216878 0.14433757 0.07216878 0.07216878\n",
      "  0.07216878 0.07216878 0.07216878 0.07216878 0.07216878 0.07216878\n",
      "  0.07216878 0.50518149 0.07216878 0.14433757 0.07216878 0.28867513\n",
      "  0.07216878 0.07216878 0.07216878 0.07216878 0.14433757 0.14433757\n",
      "  0.07216878 0.07216878 0.07216878 0.07216878 0.07216878 0.14433757\n",
      "  0.07216878]]\n"
     ]
    }
   ],
   "source": [
    "from sklearn.feature_extraction.text import TfidfTransformer\n",
    "tfidf = TfidfTransformer()\n",
    "tfidf_list = tfidf.fit_transform(bag).toarray()\n",
    "print(tfidf_list)"
   ]
  },
  {
   "cell_type": "code",
   "execution_count": 40,
   "metadata": {},
   "outputs": [
    {
     "data": {
      "text/plain": [
       "0.14433756729740646"
      ]
     },
     "execution_count": 40,
     "metadata": {},
     "output_type": "execute_result"
    }
   ],
   "source": [
    "index_is = vectorizer.get_feature_names().index('is')\n",
    "index_amazing = vectorizer.get_feature_names().index(\"innocent\")\n",
    "sum(tfidf_list[:,index_is])"
   ]
  },
  {
   "cell_type": "code",
   "execution_count": 41,
   "metadata": {},
   "outputs": [],
   "source": [
    "from collections import Counter\n",
    "count = Counter()"
   ]
  },
  {
   "cell_type": "code",
   "execution_count": null,
   "metadata": {},
   "outputs": [],
   "source": []
  }
 ],
 "metadata": {
  "kernelspec": {
   "display_name": "Python 3",
   "language": "python",
   "name": "python3"
  },
  "language_info": {
   "codemirror_mode": {
    "name": "ipython",
    "version": 3
   },
   "file_extension": ".py",
   "mimetype": "text/x-python",
   "name": "python",
   "nbconvert_exporter": "python",
   "pygments_lexer": "ipython3",
   "version": "3.7.0"
  }
 },
 "nbformat": 4,
 "nbformat_minor": 2
}
